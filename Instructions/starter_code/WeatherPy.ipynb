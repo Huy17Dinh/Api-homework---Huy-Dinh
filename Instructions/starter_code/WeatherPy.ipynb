{
 "cells": [
  {
   "cell_type": "markdown",
   "metadata": {},
   "source": [
    "# WeatherPy\n",
    "----\n",
    "\n",
    "#### Note\n",
    "* Instructions have been included for each segment. You do not have to follow them exactly, but they are included to help you think through the steps."
   ]
  },
  {
   "cell_type": "code",
   "execution_count": 23,
   "metadata": {
    "scrolled": true
   },
   "outputs": [],
   "source": [
    "#import all relevant libraries\n",
    "\n",
    "import pandas as pd \n",
    "import numpy as np\n",
    "import matplotlib.pyplot as plt \n",
    "import scipy.stats as st\n",
    "import requests \n",
    "import datetime\n",
    "from api_keys import weather_api_key, g_key\n",
    "# import citypy to determine city base on lattitude and longitude\n",
    "from citipy import citipy\n",
    "from pprint import pprint\n",
    "\n",
    "file_path = \"output_data/cities.csv\""
   ]
  },
  {
   "cell_type": "markdown",
   "metadata": {},
   "source": [
    "## Generate Cities List"
   ]
  },
  {
   "cell_type": "code",
   "execution_count": 24,
   "metadata": {},
   "outputs": [
    {
     "data": {
      "text/plain": [
       "770"
      ]
     },
     "execution_count": 24,
     "metadata": {},
     "output_type": "execute_result"
    }
   ],
   "source": [
    "#create lists to hold lat, lng and cities\n",
    "lat_lngs = []\n",
    "cities = []\n",
    "\n",
    "# we can create a set of random latitude (-90 to 90) and longitude (-180 to 180) and use zip function to combine them\n",
    "lat = np.random.uniform(-90, 90, 2000)\n",
    "lng = np.random.uniform(-180, 180, 2000)\n",
    "lat_lngs = zip(lat, lng)\n",
    "\n",
    "# find the nearest city for each pair of [lat,lng]\n",
    "for lat_lng in lat_lngs:\n",
    "    city = citipy.nearest_city(lat_lng[0],lat_lng[1]).city_name\n",
    "\n",
    "    if city not in cities:\n",
    "        cities.append(city)\n",
    "\n",
    "len(cities)"
   ]
  },
  {
   "cell_type": "markdown",
   "metadata": {},
   "source": [
    "### Perform API Calls\n",
    "* Perform a weather check on each city using a series of successive API calls.\n",
    "* Include a print log of each city as it'sbeing processed (with the city number and city name).\n"
   ]
  },
  {
   "cell_type": "code",
   "execution_count": 25,
   "metadata": {},
   "outputs": [
    {
     "name": "stdout",
     "output_type": "stream",
     "text": [
      "Processing record 1 of set 1 | pinega\n",
      "Processing record 2 of set 1 | saldanha\n",
      "Processing record 3 of set 1 | jamestown\n",
      "Processing record 4 of set 1 | garowe\n",
      "Processing record 5 of set 1 | juneau\n",
      "Processing record 6 of set 1 | marcona\n",
      "City not found. Skipping...\n",
      "Processing record 7 of set 1 | hay river\n",
      "Processing record 8 of set 1 | cockburn town\n",
      "Processing record 9 of set 1 | ushuaia\n",
      "Processing record 10 of set 1 | guerrero negro\n",
      "Processing record 11 of set 1 | puerto escondido\n",
      "Processing record 12 of set 1 | grand gaube\n",
      "Processing record 13 of set 1 | cidreira\n",
      "Processing record 14 of set 1 | danville\n",
      "Processing record 15 of set 1 | illoqqortoormiut\n",
      "City not found. Skipping...\n",
      "Processing record 16 of set 1 | batemans bay\n",
      "Processing record 17 of set 1 | harrisburg\n",
      "Processing record 18 of set 1 | borogontsy\n",
      "Processing record 19 of set 1 | barentsburg\n",
      "City not found. Skipping...\n",
      "Processing record 20 of set 1 | yellowknife\n",
      "Processing record 21 of set 1 | kudahuvadhoo\n",
      "Processing record 22 of set 1 | dunedin\n",
      "Processing record 23 of set 1 | pachperwa\n",
      "Processing record 24 of set 1 | port hardy\n",
      "Processing record 25 of set 1 | kruisfontein\n",
      "Processing record 26 of set 1 | belushya guba\n",
      "City not found. Skipping...\n",
      "Processing record 27 of set 1 | tambau\n",
      "Processing record 28 of set 1 | atuona\n",
      "Processing record 29 of set 1 | pevek\n",
      "Processing record 30 of set 1 | mehamn\n",
      "Processing record 31 of set 1 | coihaique\n",
      "Processing record 32 of set 1 | arraial do cabo\n",
      "Processing record 33 of set 1 | punta arenas\n",
      "Processing record 34 of set 1 | fukue\n",
      "Processing record 35 of set 1 | puerto madero\n",
      "Processing record 36 of set 1 | rikitea\n",
      "Processing record 37 of set 1 | ukiah\n",
      "Processing record 38 of set 1 | esperance\n",
      "Processing record 39 of set 1 | ilulissat\n",
      "Processing record 40 of set 1 | sisimiut\n",
      "Processing record 41 of set 1 | kodiak\n",
      "Processing record 42 of set 1 | lata\n",
      "Processing record 43 of set 1 | sorong\n",
      "Processing record 44 of set 1 | hilo\n",
      "Processing record 45 of set 1 | bredasdorp\n",
      "Processing record 46 of set 1 | hermanus\n",
      "Processing record 47 of set 1 | waingapu\n",
      "Processing record 48 of set 1 | qaqortoq\n",
      "Processing record 49 of set 1 | georgetown\n",
      "Processing record 50 of set 1 | ariquemes\n",
      "Processing record 0 of set 2 | ribeira grande\n",
      "Processing record 1 of set 2 | homer\n",
      "Processing record 2 of set 2 | attawapiskat\n",
      "City not found. Skipping...\n",
      "Processing record 3 of set 2 | port alfred\n",
      "Processing record 4 of set 2 | hope\n",
      "Processing record 5 of set 2 | mahon\n",
      "Processing record 6 of set 2 | new norfolk\n",
      "Processing record 7 of set 2 | barrow\n",
      "Processing record 8 of set 2 | nalut\n",
      "Processing record 9 of set 2 | marsh harbour\n",
      "Processing record 10 of set 2 | cabo san lucas\n",
      "Processing record 11 of set 2 | puerto ayora\n",
      "Processing record 12 of set 2 | clyde river\n",
      "Processing record 13 of set 2 | kapaa\n",
      "Processing record 14 of set 2 | ulaangom\n",
      "Processing record 15 of set 2 | saquarema\n",
      "Processing record 16 of set 2 | tasiilaq\n",
      "Processing record 17 of set 2 | ostrovnoy\n",
      "Processing record 18 of set 2 | cape town\n",
      "Processing record 19 of set 2 | choucheng\n",
      "City not found. Skipping...\n",
      "Processing record 20 of set 2 | saint-philippe\n",
      "Processing record 21 of set 2 | provideniya\n",
      "Processing record 22 of set 2 | chokurdakh\n",
      "Processing record 23 of set 2 | nata\n",
      "Processing record 24 of set 2 | aras\n",
      "Processing record 25 of set 2 | cherskiy\n",
      "Processing record 26 of set 2 | naze\n",
      "Processing record 27 of set 2 | kavieng\n",
      "Processing record 28 of set 2 | benghazi\n",
      "Processing record 29 of set 2 | anjozorobe\n",
      "Processing record 30 of set 2 | taiping\n",
      "Processing record 31 of set 2 | kahului\n",
      "Processing record 32 of set 2 | sao lourenco do sul\n",
      "Processing record 33 of set 2 | east london\n",
      "Processing record 34 of set 2 | nuevo progreso\n",
      "Processing record 35 of set 2 | mahebourg\n",
      "Processing record 36 of set 2 | mataura\n",
      "Processing record 37 of set 2 | hobart\n",
      "Processing record 38 of set 2 | luqiao\n",
      "Processing record 39 of set 2 | salalah\n",
      "Processing record 40 of set 2 | kazalinsk\n",
      "City not found. Skipping...\n",
      "Processing record 41 of set 2 | mar del plata\n",
      "Processing record 42 of set 2 | aykhal\n",
      "Processing record 43 of set 2 | san patricio\n",
      "Processing record 44 of set 2 | kieta\n",
      "Processing record 45 of set 2 | jutai\n",
      "Processing record 46 of set 2 | tuatapere\n",
      "Processing record 47 of set 2 | norman wells\n",
      "Processing record 48 of set 2 | mandalgovi\n",
      "Processing record 49 of set 2 | boryslav\n",
      "Processing record 50 of set 2 | palu\n",
      "Processing record 0 of set 3 | haines junction\n",
      "Processing record 1 of set 3 | severo-kurilsk\n",
      "Processing record 2 of set 3 | arman\n",
      "Processing record 3 of set 3 | vaini\n",
      "Processing record 4 of set 3 | mys shmidta\n",
      "City not found. Skipping...\n",
      "Processing record 5 of set 3 | turayf\n",
      "Processing record 6 of set 3 | nadym\n",
      "Processing record 7 of set 3 | channel-port aux basques\n",
      "Processing record 8 of set 3 | busselton\n",
      "Processing record 9 of set 3 | falmouth\n",
      "Processing record 10 of set 3 | beloha\n",
      "Processing record 11 of set 3 | taolanaro\n",
      "City not found. Skipping...\n",
      "Processing record 12 of set 3 | chuy\n",
      "Processing record 13 of set 3 | zyryanka\n",
      "Processing record 14 of set 3 | ulladulla\n",
      "Processing record 15 of set 3 | longyearbyen\n",
      "Processing record 16 of set 3 | san jeronimo\n",
      "Processing record 17 of set 3 | raga\n",
      "Processing record 18 of set 3 | dakar\n",
      "Processing record 19 of set 3 | bambous virieux\n",
      "Processing record 20 of set 3 | tikhvin\n",
      "Processing record 21 of set 3 | bluff\n",
      "Processing record 22 of set 3 | thompson\n",
      "Processing record 23 of set 3 | constitucion\n",
      "Processing record 24 of set 3 | amurzet\n",
      "Processing record 25 of set 3 | port moresby\n",
      "Processing record 26 of set 3 | clayton\n",
      "Processing record 27 of set 3 | klaksvik\n",
      "Processing record 28 of set 3 | muisne\n",
      "Processing record 29 of set 3 | rio gallegos\n",
      "Processing record 30 of set 3 | gat\n",
      "Processing record 31 of set 3 | meadow lake\n",
      "Processing record 32 of set 3 | bethel\n",
      "Processing record 33 of set 3 | port augusta\n",
      "Processing record 34 of set 3 | srednekolymsk\n",
      "Processing record 35 of set 3 | sao joao da barra\n",
      "Processing record 36 of set 3 | butaritari\n",
      "Processing record 37 of set 3 | aklavik\n",
      "Processing record 38 of set 3 | funtua\n",
      "Processing record 39 of set 3 | iqaluit\n",
      "Processing record 40 of set 3 | chagda\n",
      "City not found. Skipping...\n",
      "Processing record 41 of set 3 | khatanga\n",
      "Processing record 42 of set 3 | tongliao\n",
      "Processing record 43 of set 3 | yulara\n",
      "Processing record 44 of set 3 | touros\n",
      "Processing record 45 of set 3 | cap malheureux\n",
      "Processing record 46 of set 3 | karaj\n",
      "Processing record 47 of set 3 | candawaga\n",
      "City not found. Skipping...\n",
      "Processing record 48 of set 3 | kushikino\n",
      "Processing record 49 of set 3 | bemidji\n",
      "Processing record 50 of set 3 | kaitangata\n",
      "Processing record 0 of set 4 | tofield\n",
      "Processing record 1 of set 4 | faanui\n",
      "Processing record 2 of set 4 | meridian\n",
      "Processing record 3 of set 4 | namtsy\n",
      "Processing record 4 of set 4 | sao filipe\n",
      "Processing record 5 of set 4 | qaanaaq\n",
      "Processing record 6 of set 4 | liminangcong\n",
      "City not found. Skipping...\n",
      "Processing record 7 of set 4 | labutta\n",
      "City not found. Skipping...\n",
      "Processing record 8 of set 4 | mizque\n",
      "Processing record 9 of set 4 | evensk\n",
      "Processing record 10 of set 4 | mikhaylov\n",
      "Processing record 11 of set 4 | tumannyy\n",
      "City not found. Skipping...\n",
      "Processing record 12 of set 4 | hobyo\n",
      "Processing record 13 of set 4 | wanning\n",
      "Processing record 14 of set 4 | narsaq\n",
      "Processing record 15 of set 4 | loralai\n",
      "Processing record 16 of set 4 | samusu\n",
      "City not found. Skipping...\n",
      "Processing record 17 of set 4 | port hawkesbury\n",
      "Processing record 18 of set 4 | avarua\n",
      "Processing record 19 of set 4 | broome\n",
      "Processing record 20 of set 4 | albany\n",
      "Processing record 21 of set 4 | marivan\n",
      "Processing record 22 of set 4 | upernavik\n",
      "Processing record 23 of set 4 | ketchikan\n",
      "Processing record 24 of set 4 | ambilobe\n",
      "Processing record 25 of set 4 | port elizabeth\n",
      "Processing record 26 of set 4 | springdale\n",
      "Processing record 27 of set 4 | huarmey\n",
      "Processing record 28 of set 4 | libertador general san martin\n",
      "Processing record 29 of set 4 | termoli\n",
      "Processing record 30 of set 4 | port-gentil\n",
      "Processing record 31 of set 4 | mariental\n",
      "Processing record 32 of set 4 | vila velha\n",
      "Processing record 33 of set 4 | meyungs\n",
      "City not found. Skipping...\n",
      "Processing record 34 of set 4 | kargil\n",
      "Processing record 35 of set 4 | phan rang\n",
      "City not found. Skipping...\n",
      "Processing record 36 of set 4 | umba\n",
      "Processing record 37 of set 4 | tawkar\n",
      "City not found. Skipping...\n",
      "Processing record 38 of set 4 | kimberley\n",
      "Processing record 39 of set 4 | payo\n",
      "Processing record 40 of set 4 | nizhneyansk\n",
      "City not found. Skipping...\n",
      "Processing record 41 of set 4 | castro\n",
      "Processing record 42 of set 4 | edgewood\n",
      "Processing record 43 of set 4 | leningradskiy\n",
      "Processing record 44 of set 4 | dikson\n",
      "Processing record 45 of set 4 | airai\n",
      "Processing record 46 of set 4 | talnakh\n",
      "Processing record 47 of set 4 | bathsheba\n",
      "Processing record 48 of set 4 | saleaula\n",
      "City not found. Skipping...\n",
      "Processing record 49 of set 4 | mrirt\n",
      "City not found. Skipping...\n",
      "Processing record 50 of set 4 | barra patuca\n",
      "Processing record 0 of set 5 | wajid\n",
      "Processing record 1 of set 5 | tuktoyaktuk\n",
      "Processing record 2 of set 5 | okhotsk\n",
      "Processing record 3 of set 5 | darab\n",
      "Processing record 4 of set 5 | meulaboh\n",
      "Processing record 5 of set 5 | alice springs\n",
      "Processing record 6 of set 5 | upata\n",
      "Processing record 7 of set 5 | senigallia\n",
      "Processing record 8 of set 5 | tazovskiy\n",
      "Processing record 9 of set 5 | geraldton\n",
      "Processing record 10 of set 5 | metehara\n",
      "City not found. Skipping...\n",
      "Processing record 11 of set 5 | pangnirtung\n",
      "Processing record 12 of set 5 | srivardhan\n",
      "Processing record 13 of set 5 | adrar\n",
      "Processing record 14 of set 5 | charters towers\n",
      "Processing record 15 of set 5 | yantal\n",
      "Processing record 16 of set 5 | krasnoborsk\n",
      "Processing record 17 of set 5 | hasaki\n",
      "Processing record 18 of set 5 | coronel mariduena\n",
      "City not found. Skipping...\n",
      "Processing record 19 of set 5 | nikolskoye\n",
      "Processing record 20 of set 5 | mixtepec\n",
      "City not found. Skipping...\n",
      "Processing record 21 of set 5 | marzuq\n",
      "Processing record 22 of set 5 | cocobeach\n",
      "Processing record 23 of set 5 | changying\n",
      "Processing record 24 of set 5 | port hedland\n",
      "Processing record 25 of set 5 | los llanos de aridane\n",
      "Processing record 26 of set 5 | miles city\n",
      "Processing record 27 of set 5 | santa cruz\n",
      "Processing record 28 of set 5 | upington\n",
      "Processing record 29 of set 5 | tiksi\n",
      "Processing record 30 of set 5 | bilma\n",
      "Processing record 31 of set 5 | colesberg\n",
      "Processing record 32 of set 5 | alihe\n",
      "Processing record 33 of set 5 | labuan\n",
      "Processing record 34 of set 5 | lebu\n",
      "Processing record 35 of set 5 | ust-kamchatsk\n",
      "City not found. Skipping...\n",
      "Processing record 36 of set 5 | port-cartier\n",
      "Processing record 37 of set 5 | victoria\n",
      "Processing record 38 of set 5 | guna\n",
      "Processing record 39 of set 5 | luanda\n",
      "Processing record 40 of set 5 | vila franca do campo\n",
      "Processing record 41 of set 5 | voyvozh\n",
      "Processing record 42 of set 5 | georgiyevka\n",
      "Processing record 43 of set 5 | grand river south east\n",
      "City not found. Skipping...\n",
      "Processing record 44 of set 5 | vostok\n",
      "Processing record 45 of set 5 | hithadhoo\n",
      "Processing record 46 of set 5 | alofi\n",
      "Processing record 47 of set 5 | aksu\n",
      "Processing record 48 of set 5 | isangel\n",
      "Processing record 49 of set 5 | roma\n",
      "Processing record 50 of set 5 | wajir\n",
      "Processing record 0 of set 6 | carire\n",
      "Processing record 1 of set 6 | grindavik\n",
      "Processing record 2 of set 6 | padang\n",
      "Processing record 3 of set 6 | antalaha\n",
      "Processing record 4 of set 6 | khorramshahr\n",
      "Processing record 5 of set 6 | mount gambier\n",
      "Processing record 6 of set 6 | abu samrah\n",
      "Processing record 7 of set 6 | saskylakh\n",
      "Processing record 8 of set 6 | pitimbu\n",
      "Processing record 9 of set 6 | carnarvon\n",
      "Processing record 10 of set 6 | torbay\n",
      "Processing record 11 of set 6 | ancud\n",
      "Processing record 12 of set 6 | outjo\n",
      "Processing record 13 of set 6 | krasnogvardeyskoye\n",
      "Processing record 14 of set 6 | north bend\n",
      "Processing record 15 of set 6 | alexandria\n",
      "Processing record 16 of set 6 | lompoc\n",
      "Processing record 17 of set 6 | nishihara\n",
      "Processing record 18 of set 6 | japura\n",
      "Processing record 19 of set 6 | villa de reyes\n",
      "Processing record 20 of set 6 | idenao\n",
      "Processing record 21 of set 6 | port lincoln\n",
      "Processing record 22 of set 6 | tacuarembo\n",
      "Processing record 23 of set 6 | cayenne\n",
      "Processing record 24 of set 6 | bellmead\n",
      "Processing record 25 of set 6 | camacha\n",
      "Processing record 26 of set 6 | miracatu\n",
      "Processing record 27 of set 6 | safwah\n",
      "City not found. Skipping...\n",
      "Processing record 28 of set 6 | cascais\n",
      "Processing record 29 of set 6 | dingli\n",
      "Processing record 30 of set 6 | lazaro cardenas\n",
      "Processing record 31 of set 6 | wuda\n",
      "Processing record 32 of set 6 | bandarbeyla\n",
      "Processing record 33 of set 6 | savannah bight\n",
      "Processing record 34 of set 6 | mugango\n",
      "Processing record 35 of set 6 | karasjok\n",
      "Processing record 36 of set 6 | albania\n",
      "Processing record 37 of set 6 | hofn\n",
      "Processing record 38 of set 6 | sembe\n",
      "Processing record 39 of set 6 | bubaque\n",
      "Processing record 40 of set 6 | vestmannaeyjar\n",
      "Processing record 41 of set 6 | jujuy\n",
      "City not found. Skipping...\n",
      "Processing record 42 of set 6 | santa maria\n",
      "Processing record 43 of set 6 | rosamorada\n",
      "Processing record 44 of set 6 | hazorasp\n",
      "Processing record 45 of set 6 | tarauaca\n",
      "Processing record 46 of set 6 | tura\n",
      "Processing record 47 of set 6 | nouadhibou\n",
      "Processing record 48 of set 6 | chama\n",
      "Processing record 49 of set 6 | sungaipenuh\n",
      "Processing record 50 of set 6 | hovd\n",
      "Processing record 0 of set 7 | lokosovo\n",
      "Processing record 1 of set 7 | oranjestad\n",
      "Processing record 2 of set 7 | bengkulu\n",
      "Processing record 3 of set 7 | chiang khong\n",
      "Processing record 4 of set 7 | novaya igirma\n",
      "Processing record 5 of set 7 | khonuu\n",
      "City not found. Skipping...\n",
      "Processing record 6 of set 7 | kununurra\n",
      "Processing record 7 of set 7 | sentyabrskiy\n",
      "City not found. Skipping...\n",
      "Processing record 8 of set 7 | rawson\n",
      "Processing record 9 of set 7 | ponta delgada\n",
      "Processing record 10 of set 7 | chateaudun\n",
      "Processing record 11 of set 7 | kyabe\n",
      "Processing record 12 of set 7 | erenhot\n",
      "Processing record 13 of set 7 | port macquarie\n",
      "Processing record 14 of set 7 | hot springs\n",
      "Processing record 15 of set 7 | luderitz\n",
      "Processing record 16 of set 7 | ponta do sol\n",
      "Processing record 17 of set 7 | khash\n",
      "Processing record 18 of set 7 | nagato\n",
      "Processing record 19 of set 7 | saint anthony\n",
      "Processing record 20 of set 7 | boa vista\n",
      "Processing record 21 of set 7 | merauke\n",
      "Processing record 22 of set 7 | burica\n",
      "City not found. Skipping...\n",
      "Processing record 23 of set 7 | fortuna\n",
      "Processing record 24 of set 7 | egvekinot\n",
      "Processing record 25 of set 7 | mandera\n",
      "Processing record 26 of set 7 | fort nelson\n",
      "Processing record 27 of set 7 | jalu\n",
      "Processing record 28 of set 7 | tilichiki\n",
      "Processing record 29 of set 7 | biu\n",
      "Processing record 30 of set 7 | hualmay\n",
      "Processing record 31 of set 7 | palabuhanratu\n",
      "City not found. Skipping...\n",
      "Processing record 32 of set 7 | gewane\n",
      "Processing record 33 of set 7 | krasnoselkup\n",
      "Processing record 34 of set 7 | saint george\n",
      "Processing record 35 of set 7 | frontera\n",
      "Processing record 36 of set 7 | troitskoye\n",
      "Processing record 37 of set 7 | ozernovskiy\n",
      "Processing record 38 of set 7 | vaitupu\n",
      "City not found. Skipping...\n",
      "Processing record 39 of set 7 | luganville\n",
      "Processing record 40 of set 7 | arroyo\n",
      "Processing record 41 of set 7 | puerto madryn\n",
      "Processing record 42 of set 7 | itarema\n",
      "Processing record 43 of set 7 | wanaka\n",
      "Processing record 44 of set 7 | kirovskiy\n",
      "Processing record 45 of set 7 | west bay\n",
      "Processing record 46 of set 7 | hunza\n",
      "City not found. Skipping...\n",
      "Processing record 47 of set 7 | souillac\n",
      "Processing record 48 of set 7 | uvinza\n",
      "Processing record 49 of set 7 | saint-pierre\n",
      "Processing record 50 of set 7 | shiringushi\n",
      "Processing record 0 of set 8 | pecos\n",
      "Processing record 1 of set 8 | foz\n",
      "Processing record 2 of set 8 | kamenskoye\n",
      "City not found. Skipping...\n",
      "Processing record 3 of set 8 | amderma\n",
      "City not found. Skipping...\n",
      "Processing record 4 of set 8 | oyama\n",
      "Processing record 5 of set 8 | berlevag\n",
      "Processing record 6 of set 8 | sioux lookout\n",
      "Processing record 7 of set 8 | tiruvottiyur\n",
      "City not found. Skipping...\n",
      "Processing record 8 of set 8 | auki\n",
      "Processing record 9 of set 8 | kilrush\n",
      "Processing record 10 of set 8 | dingle\n",
      "Processing record 11 of set 8 | wattegama\n",
      "Processing record 12 of set 8 | jackson\n",
      "Processing record 13 of set 8 | vardo\n",
      "Processing record 14 of set 8 | scarborough\n",
      "Processing record 15 of set 8 | maragogi\n",
      "Processing record 16 of set 8 | boyuibe\n",
      "Processing record 17 of set 8 | yar-sale\n",
      "Processing record 18 of set 8 | vengerovo\n",
      "Processing record 19 of set 8 | harboore\n",
      "Processing record 20 of set 8 | coffs harbour\n",
      "Processing record 21 of set 8 | haibowan\n",
      "City not found. Skipping...\n",
      "Processing record 22 of set 8 | tual\n",
      "Processing record 23 of set 8 | dvinskoy\n",
      "Processing record 24 of set 8 | te anau\n",
      "Processing record 25 of set 8 | russell\n",
      "Processing record 26 of set 8 | maracacume\n",
      "Processing record 27 of set 8 | bereda\n",
      "Processing record 28 of set 8 | itabera\n",
      "Processing record 29 of set 8 | forbes\n",
      "Processing record 30 of set 8 | leua\n",
      "Processing record 31 of set 8 | fethiye\n",
      "Processing record 32 of set 8 | westport\n",
      "Processing record 33 of set 8 | eureka\n",
      "Processing record 34 of set 8 | flinders\n",
      "Processing record 35 of set 8 | jaguey grande\n",
      "Processing record 36 of set 8 | rio grande\n",
      "Processing record 37 of set 8 | kaeo\n",
      "Processing record 38 of set 8 | portree\n",
      "Processing record 39 of set 8 | olinda\n",
      "Processing record 40 of set 8 | waitara\n",
      "Processing record 41 of set 8 | mnogovershinnyy\n",
      "Processing record 42 of set 8 | timra\n",
      "Processing record 43 of set 8 | bogashevo\n",
      "Processing record 44 of set 8 | stornoway\n",
      "Processing record 45 of set 8 | delijan\n",
      "Processing record 46 of set 8 | samana\n",
      "Processing record 47 of set 8 | hirtshals\n",
      "Processing record 48 of set 8 | dzilam gonzalez\n",
      "Processing record 49 of set 8 | kaspiysk\n",
      "Processing record 50 of set 8 | kokino\n",
      "Processing record 0 of set 9 | kumano\n",
      "Processing record 1 of set 9 | olafsvik\n",
      "Processing record 2 of set 9 | zhuzhou\n",
      "Processing record 3 of set 9 | jiuquan\n",
      "Processing record 4 of set 9 | sarkand\n",
      "Processing record 5 of set 9 | altay\n",
      "Processing record 6 of set 9 | urdzhar\n",
      "City not found. Skipping...\n",
      "Processing record 7 of set 9 | mindelo\n",
      "Processing record 8 of set 9 | villarrica\n",
      "Processing record 9 of set 9 | porto novo\n",
      "Processing record 10 of set 9 | inhambane\n",
      "Processing record 11 of set 9 | williston\n",
      "Processing record 12 of set 9 | sibiti\n",
      "Processing record 13 of set 9 | kuito\n",
      "Processing record 14 of set 9 | ahipara\n",
      "Processing record 15 of set 9 | eseka\n",
      "Processing record 16 of set 9 | salinas\n",
      "Processing record 17 of set 9 | coquimbo\n",
      "Processing record 18 of set 9 | wolfenbuttel\n",
      "Processing record 19 of set 9 | bernau\n",
      "Processing record 20 of set 9 | billings\n",
      "Processing record 21 of set 9 | faya\n",
      "Processing record 22 of set 9 | yumen\n",
      "Processing record 23 of set 9 | hamilton\n",
      "Processing record 24 of set 9 | requena\n",
      "Processing record 25 of set 9 | margate\n",
      "Processing record 26 of set 9 | sovetskiy\n",
      "Processing record 27 of set 9 | lolua\n",
      "City not found. Skipping...\n",
      "Processing record 28 of set 9 | nanortalik\n",
      "Processing record 29 of set 9 | todos santos\n",
      "Processing record 30 of set 9 | livny\n",
      "Processing record 31 of set 9 | daru\n",
      "Processing record 32 of set 9 | baijiantan\n",
      "Processing record 33 of set 9 | urucara\n",
      "Processing record 34 of set 9 | changping\n",
      "Processing record 35 of set 9 | raub\n",
      "Processing record 36 of set 9 | caravelas\n",
      "Processing record 37 of set 9 | altar\n",
      "Processing record 38 of set 9 | coolum beach\n",
      "Processing record 39 of set 9 | sitka\n",
      "Processing record 40 of set 9 | umzimvubu\n",
      "City not found. Skipping...\n",
      "Processing record 41 of set 9 | lagoa\n",
      "Processing record 42 of set 9 | saurimo\n",
      "Processing record 43 of set 9 | abalak\n",
      "Processing record 44 of set 9 | houma\n",
      "Processing record 45 of set 9 | sabha\n",
      "Processing record 46 of set 9 | mityana\n",
      "Processing record 47 of set 9 | swan hill\n",
      "Processing record 48 of set 9 | kholtoson\n",
      "Processing record 49 of set 9 | miramar\n",
      "Processing record 50 of set 9 | halifax\n",
      "Processing record 0 of set 10 | half moon bay\n",
      "Processing record 1 of set 10 | uren\n",
      "Processing record 2 of set 10 | bambanglipuro\n",
      "Processing record 3 of set 10 | jizan\n",
      "Processing record 4 of set 10 | antigonish\n",
      "Processing record 5 of set 10 | pacific grove\n",
      "Processing record 6 of set 10 | ban nahin\n",
      "Processing record 7 of set 10 | axim\n",
      "Processing record 8 of set 10 | sept-iles\n",
      "Processing record 9 of set 10 | anakapalle\n",
      "Processing record 10 of set 10 | peniche\n",
      "Processing record 11 of set 10 | shiraz\n",
      "Processing record 12 of set 10 | toliary\n",
      "City not found. Skipping...\n",
      "Processing record 13 of set 10 | quelimane\n",
      "Processing record 14 of set 10 | hirara\n",
      "Processing record 15 of set 10 | porto nacional\n",
      "Processing record 16 of set 10 | champerico\n",
      "Processing record 17 of set 10 | xining\n",
      "Processing record 18 of set 10 | majene\n",
      "Processing record 19 of set 10 | uyovu\n",
      "Processing record 20 of set 10 | nuuk\n",
      "Processing record 21 of set 10 | harper\n",
      "Processing record 22 of set 10 | pyinmana\n",
      "Processing record 23 of set 10 | noumea\n",
      "Processing record 24 of set 10 | codrington\n",
      "Processing record 25 of set 10 | alkmaar\n",
      "Processing record 26 of set 10 | bageshwar\n",
      "Processing record 27 of set 10 | quatre cocos\n",
      "Processing record 28 of set 10 | bowen\n",
      "Processing record 29 of set 10 | ordu\n",
      "Processing record 30 of set 10 | sobolevo\n",
      "Processing record 31 of set 10 | douglas\n",
      "Processing record 32 of set 10 | broken hill\n",
      "Processing record 33 of set 10 | jinchang\n",
      "Processing record 34 of set 10 | mount pleasant\n",
      "Processing record 35 of set 10 | lerwick\n",
      "Processing record 36 of set 10 | loandjili\n",
      "Processing record 37 of set 10 | bocas del toro\n",
      "Processing record 38 of set 10 | tsihombe\n",
      "City not found. Skipping...\n",
      "Processing record 39 of set 10 | nakusp\n",
      "Processing record 40 of set 10 | la ronge\n",
      "Processing record 41 of set 10 | tallahassee\n",
      "Processing record 42 of set 10 | dahra\n",
      "Processing record 43 of set 10 | dudinka\n",
      "Processing record 44 of set 10 | oranjemund\n",
      "Processing record 45 of set 10 | hambantota\n",
      "Processing record 46 of set 10 | palana\n",
      "Processing record 47 of set 10 | bulungu\n",
      "Processing record 48 of set 10 | maniitsoq\n",
      "Processing record 49 of set 10 | bismarck\n",
      "Processing record 50 of set 10 | serednye vodyane\n",
      "Processing record 0 of set 11 | chicama\n",
      "Processing record 1 of set 11 | wazzan\n",
      "City not found. Skipping...\n",
      "Processing record 2 of set 11 | kalevala\n",
      "Processing record 3 of set 11 | zhuhai\n",
      "Processing record 4 of set 11 | paros\n",
      "Processing record 5 of set 11 | acapulco\n",
      "Processing record 6 of set 11 | rocha\n",
      "Processing record 7 of set 11 | northam\n",
      "Processing record 8 of set 11 | cherdyn\n",
      "Processing record 9 of set 11 | lagos\n",
      "Processing record 10 of set 11 | tortoli\n",
      "Processing record 11 of set 11 | karamea\n",
      "City not found. Skipping...\n",
      "Processing record 12 of set 11 | ornskoldsvik\n",
      "Processing record 13 of set 11 | nogliki\n",
      "Processing record 14 of set 11 | banepa\n",
      "Processing record 15 of set 11 | rupert\n",
      "Processing record 16 of set 11 | morant bay\n",
      "Processing record 17 of set 11 | viedma\n",
      "Processing record 18 of set 11 | bardiyah\n",
      "Processing record 19 of set 11 | kadykchan\n",
      "City not found. Skipping...\n",
      "Processing record 20 of set 11 | lufkin\n",
      "Processing record 21 of set 11 | sangin\n",
      "Processing record 22 of set 11 | tiarei\n",
      "Processing record 23 of set 11 | campo verde\n",
      "Processing record 24 of set 11 | manjakandriana\n",
      "Processing record 25 of set 11 | karaul\n",
      "City not found. Skipping...\n",
      "Processing record 26 of set 11 | salta\n",
      "Processing record 27 of set 11 | yeppoon\n",
      "Processing record 28 of set 11 | sorvag\n",
      "City not found. Skipping...\n",
      "Processing record 29 of set 11 | taoudenni\n",
      "Processing record 30 of set 11 | raudeberg\n",
      "Processing record 31 of set 11 | zarubino\n",
      "Processing record 32 of set 11 | chandbali\n",
      "Processing record 33 of set 11 | reserva\n",
      "Processing record 34 of set 11 | manati\n",
      "Processing record 35 of set 11 | conceicao do araguaia\n",
      "Processing record 36 of set 11 | dalbandin\n",
      "Processing record 37 of set 11 | ballina\n",
      "Processing record 38 of set 11 | bilibino\n",
      "Processing record 39 of set 11 | san quintin\n",
      "Processing record 40 of set 11 | great yarmouth\n",
      "Processing record 41 of set 11 | petauke\n",
      "Processing record 42 of set 11 | jining\n",
      "Processing record 43 of set 11 | edson\n",
      "Processing record 44 of set 11 | kyaikto\n",
      "Processing record 45 of set 11 | alta floresta\n",
      "Processing record 46 of set 11 | slave lake\n",
      "Processing record 47 of set 11 | lasa\n",
      "Processing record 48 of set 11 | avera\n",
      "Processing record 49 of set 11 | sao raimundo nonato\n",
      "Processing record 50 of set 11 | valparaiso\n",
      "Processing record 0 of set 12 | gisborne\n",
      "Processing record 1 of set 12 | astoria\n",
      "Processing record 2 of set 12 | kasongo-lunda\n",
      "Processing record 3 of set 12 | sardulgarh\n",
      "Processing record 4 of set 12 | ugoofaaru\n",
      "Processing record 5 of set 12 | entre rios\n",
      "Processing record 6 of set 12 | lahaina\n",
      "Processing record 7 of set 12 | port said\n",
      "Processing record 8 of set 12 | staryy nadym\n",
      "Processing record 9 of set 12 | mitsamiouli\n",
      "Processing record 10 of set 12 | wanganui\n",
      "Processing record 11 of set 12 | sarangani\n",
      "Processing record 12 of set 12 | dengzhou\n",
      "Processing record 13 of set 12 | vozhega\n",
      "Processing record 14 of set 12 | san juan\n",
      "Processing record 15 of set 12 | mangrol\n",
      "Processing record 16 of set 12 | bosaso\n",
      "Processing record 17 of set 12 | atasu\n",
      "Processing record 18 of set 12 | trairi\n",
      "Processing record 19 of set 12 | saint-denis\n",
      "Processing record 20 of set 12 | ewo\n",
      "Processing record 21 of set 12 | batticaloa\n",
      "Processing record 22 of set 12 | eskasem\n",
      "City not found. Skipping...\n",
      "Processing record 23 of set 12 | antofagasta\n",
      "Processing record 24 of set 12 | tsumeb\n",
      "Processing record 25 of set 12 | xuddur\n",
      "Processing record 26 of set 12 | vryburg\n",
      "Processing record 27 of set 12 | dhampur\n",
      "Processing record 28 of set 12 | gobabis\n",
      "Processing record 29 of set 12 | la salle\n",
      "Processing record 30 of set 12 | alamosa\n",
      "Processing record 31 of set 12 | vanimo\n",
      "Processing record 32 of set 12 | stromness\n",
      "Processing record 33 of set 12 | vanavara\n",
      "Processing record 34 of set 12 | shieli\n",
      "Processing record 35 of set 12 | methoni\n",
      "Processing record 36 of set 12 | kanigoro\n",
      "Processing record 37 of set 12 | kalmunai\n",
      "Processing record 38 of set 12 | ewa beach\n",
      "Processing record 39 of set 12 | evinayong\n",
      "Processing record 40 of set 12 | ciro marina\n",
      "Processing record 41 of set 12 | chapais\n",
      "Processing record 42 of set 12 | rolla\n",
      "Processing record 43 of set 12 | mayna\n",
      "Processing record 44 of set 12 | tecoanapa\n",
      "Processing record 45 of set 12 | robertsport\n",
      "Processing record 46 of set 12 | kaohsiung\n",
      "Processing record 47 of set 12 | somerset\n",
      "Processing record 48 of set 12 | lalsot\n",
      "Processing record 49 of set 12 | leh\n",
      "Processing record 50 of set 12 | linares\n",
      "Processing record 0 of set 13 | strezhevoy\n",
      "Processing record 1 of set 13 | ayan\n",
      "Processing record 2 of set 13 | tanggu\n",
      "Processing record 3 of set 13 | lamar\n",
      "Processing record 4 of set 13 | grand-santi\n",
      "Processing record 5 of set 13 | kottagudem\n",
      "Processing record 6 of set 13 | longlac\n",
      "City not found. Skipping...\n",
      "Processing record 7 of set 13 | paungde\n",
      "Processing record 8 of set 13 | kupang\n",
      "Processing record 9 of set 13 | aswan\n",
      "Processing record 10 of set 13 | turkmenabat\n",
      "Processing record 11 of set 13 | berezovyy\n",
      "Processing record 12 of set 13 | salihorsk\n",
      "Processing record 13 of set 13 | rapid valley\n",
      "Processing record 14 of set 13 | karratha\n",
      "Processing record 15 of set 13 | portland\n",
      "Processing record 16 of set 13 | abu dhabi\n",
      "Processing record 17 of set 13 | sinnamary\n",
      "Processing record 18 of set 13 | port blair\n",
      "Processing record 19 of set 13 | winton\n",
      "Processing record 20 of set 13 | katsuura\n",
      "Processing record 21 of set 13 | tessalit\n",
      "Processing record 22 of set 13 | kavaratti\n",
      "Processing record 23 of set 13 | huambo\n",
      "Processing record 24 of set 13 | henties bay\n",
      "Processing record 25 of set 13 | udachnyy\n",
      "Processing record 26 of set 13 | duverge\n",
      "Processing record 27 of set 13 | basoko\n",
      "Processing record 28 of set 13 | khandyga\n",
      "Processing record 29 of set 13 | venice\n",
      "Processing record 30 of set 13 | ust-uda\n",
      "Processing record 31 of set 13 | barawe\n",
      "City not found. Skipping...\n",
      "Processing record 32 of set 13 | coahuayana\n",
      "Processing record 33 of set 13 | linxia\n",
      "Processing record 34 of set 13 | antalya\n",
      "Processing record 35 of set 13 | vung tau\n",
      "Processing record 36 of set 13 | skjervoy\n",
      "Processing record 37 of set 13 | korla\n",
      "Processing record 38 of set 13 | saint-augustin\n",
      "Processing record 39 of set 13 | tagusao\n",
      "Processing record 40 of set 13 | ixtapa\n",
      "Processing record 41 of set 13 | dalvik\n",
      "Processing record 42 of set 13 | saint-georges\n",
      "Processing record 43 of set 13 | chatrapur\n",
      "Processing record 44 of set 13 | belmonte\n",
      "Processing record 45 of set 13 | emirdag\n",
      "Processing record 46 of set 13 | banda aceh\n",
      "Processing record 47 of set 13 | sahrak\n",
      "City not found. Skipping...\n",
      "Processing record 48 of set 13 | borama\n",
      "City not found. Skipping...\n",
      "Processing record 49 of set 13 | mount isa\n",
      "Processing record 50 of set 13 | marang\n",
      "Processing record 0 of set 14 | walvis bay\n",
      "Processing record 1 of set 14 | dunda\n",
      "Processing record 2 of set 14 | senaki\n",
      "Processing record 3 of set 14 | najran\n",
      "Processing record 4 of set 14 | erzin\n",
      "Processing record 5 of set 14 | ajdabiya\n",
      "Processing record 6 of set 14 | kostomuksha\n",
      "Processing record 7 of set 14 | phonhong\n",
      "Processing record 8 of set 14 | takoradi\n",
      "Processing record 9 of set 14 | laguna\n",
      "Processing record 10 of set 14 | sharkan\n",
      "Processing record 11 of set 14 | lehigh acres\n",
      "Processing record 12 of set 14 | sabang\n",
      "Processing record 13 of set 14 | morehead\n",
      "Processing record 14 of set 14 | gimli\n",
      "Processing record 15 of set 14 | nguiu\n",
      "City not found. Skipping...\n",
      "Processing record 16 of set 14 | huangmei\n",
      "Processing record 17 of set 14 | vao\n",
      "Processing record 18 of set 14 | luancheng\n",
      "Processing record 19 of set 14 | namatanai\n",
      "Processing record 20 of set 14 | los algarrobos\n",
      "Processing record 21 of set 14 | ormara\n",
      "Processing record 22 of set 14 | naron\n",
      "Processing record 23 of set 14 | teknaf\n",
      "Processing record 24 of set 14 | weyburn\n",
      "Processing record 25 of set 14 | lorengau\n",
      "Processing record 26 of set 14 | jahrom\n",
      "City not found. Skipping...\n",
      "Processing record 27 of set 14 | sawakin\n",
      "Processing record 28 of set 14 | peterhead\n",
      "Processing record 29 of set 14 | zeya\n",
      "Processing record 30 of set 14 | plano\n",
      "Processing record 31 of set 14 | teguldet\n",
      "Processing record 32 of set 14 | agadir\n",
      "Processing record 33 of set 14 | guantanamo\n",
      "Processing record 34 of set 14 | pisco\n",
      "Processing record 35 of set 14 | gravelbourg\n",
      "Processing record 36 of set 14 | rila\n",
      "Processing record 37 of set 14 | energetik\n",
      "Processing record 38 of set 14 | richards bay\n",
      "Processing record 39 of set 14 | cape coast\n",
      "Processing record 40 of set 14 | port-de-paix\n",
      "City not found. Skipping...\n",
      "Processing record 41 of set 14 | solnechnyy\n",
      "Processing record 42 of set 14 | emba\n",
      "Processing record 43 of set 14 | sovetskaya gavan\n",
      "Processing record 44 of set 14 | moyale\n",
      "Processing record 45 of set 14 | pompeu\n",
      "Processing record 46 of set 14 | siuna\n",
      "Processing record 47 of set 14 | qasigiannguit\n",
      "Processing record 48 of set 14 | luwuk\n",
      "Processing record 49 of set 14 | jabiru\n",
      "City not found. Skipping...\n",
      "Processing record 50 of set 14 | setermoen\n",
      "Processing record 0 of set 15 | samalaeulu\n",
      "City not found. Skipping...\n",
      "Processing record 1 of set 15 | vuktyl\n",
      "Processing record 2 of set 15 | saint-joseph\n",
      "Processing record 3 of set 15 | ambon\n",
      "Processing record 4 of set 15 | awbari\n",
      "Processing record 5 of set 15 | uri\n",
      "Processing record 6 of set 15 | poum\n",
      "Processing record 7 of set 15 | ternate\n",
      "Processing record 8 of set 15 | akdepe\n",
      "Processing record 9 of set 15 | dwarka\n",
      "Processing record 10 of set 15 | chiman\n",
      "Processing record 11 of set 15 | claremore\n",
      "Processing record 12 of set 15 | natal\n",
      "Processing record 13 of set 15 | gweta\n",
      "Processing record 14 of set 15 | kilakarai\n",
      "Processing record 15 of set 15 | moerai\n",
      "Processing record 16 of set 15 | pringsewu\n",
      "Processing record 17 of set 15 | timizart\n",
      "Processing record 18 of set 15 | rock springs\n",
      "Processing record 19 of set 15 | reinbek\n",
      "Processing record 20 of set 15 | whitehorse\n",
      "Processing record 21 of set 15 | zabaykalsk\n",
      "Processing record 22 of set 15 | sambava\n",
      "Processing record 23 of set 15 | soledade\n",
      "Processing record 24 of set 15 | ngawen\n",
      "Processing record 25 of set 15 | panixtlahuaca\n",
      "City not found. Skipping...\n",
      "Processing record 26 of set 15 | moses lake\n",
      "Processing record 27 of set 15 | chunskiy\n",
      "Processing record 28 of set 15 | conakry\n",
      "Processing record 29 of set 15 | yerbogachen\n",
      "Processing record 30 of set 15 | monrovia\n",
      "Processing record 31 of set 15 | tabiauea\n",
      "City not found. Skipping...\n",
      "Processing record 32 of set 15 | namibe\n",
      "Processing record 33 of set 15 | mergui\n",
      "City not found. Skipping...\n",
      "Processing record 34 of set 15 | sidi ali\n",
      "Processing record 35 of set 15 | fujin\n",
      "Processing record 36 of set 15 | saint-leu\n",
      "Processing record 37 of set 15 | canaries\n",
      "Processing record 38 of set 15 | shingu\n",
      "Processing record 39 of set 15 | pauini\n",
      "Processing record 40 of set 15 | buzias\n",
      "Processing record 41 of set 15 | spornoye\n",
      "Processing record 42 of set 15 | kommunar\n",
      "Processing record 43 of set 15 | kaliua\n",
      "Processing record 44 of set 15 | batagay-alyta\n",
      "Processing record 45 of set 15 | teahupoo\n",
      "Processing record 46 of set 15 | yaounde\n",
      "Processing record 47 of set 15 | saint-pacome\n",
      "City not found. Skipping...\n",
      "Processing record 48 of set 15 | svetlyy\n",
      "Processing record 49 of set 15 | hereford\n",
      "Processing record 50 of set 15 | kirakira\n",
      "Processing record 0 of set 16 | mormugao\n",
      "Processing record 1 of set 16 | acari\n",
      "Processing record 2 of set 16 | londoko\n",
      "Processing record 3 of set 16 | qujing\n",
      "Processing record 4 of set 16 | ruidoso\n",
      "Processing record 5 of set 16 | itoman\n"
     ]
    }
   ],
   "source": [
    "base_url = \"http://api.openweathermap.org/data/2.5/weather?\"\n",
    "unit = \"imperial\"\n",
    "query = f\"{base_url}appid={weather_api_key}&units={unit}&q=\"\n",
    "record_counter = 0\n",
    "set_counter = 1\n",
    "\n",
    "city_name = []\n",
    "country = []\n",
    "lat = []\n",
    "lng = []\n",
    "humidity = []\n",
    "wind_speed = []\n",
    "cloudiness = []\n",
    "tempt = []\n",
    "date = []\n",
    "\n",
    "for city in cities:\n",
    "    response = requests.get(f\"{query}{city}\").json()\n",
    "    if record_counter < 50:\n",
    "        record_counter += 1\n",
    "    else: \n",
    "        set_counter += 1\n",
    "        record_counter = 0\n",
    "    print(f\"Processing record {record_counter} of set {set_counter} | {city}\")\n",
    "\n",
    "    try:\n",
    "        city_name.append(response['name'])\n",
    "        country.append(response['sys']['country'])\n",
    "        lat.append(response['coord']['lat'])\n",
    "        lng.append(response['coord']['lon'])\n",
    "        humidity.append(response['main']['humidity'])\n",
    "        wind_speed.append(response['wind']['speed'])\n",
    "        cloudiness.append(response['clouds']['all'])\n",
    "        tempt.append(response['main']['temp_max'])\n",
    "        date.append(response['dt'])\n",
    "\n",
    "    except:\n",
    "        print(f\"City not found. Skipping...\")\n",
    "\n"
   ]
  },
  {
   "cell_type": "code",
   "execution_count": null,
   "metadata": {
    "scrolled": true
   },
   "outputs": [],
   "source": []
  },
  {
   "cell_type": "markdown",
   "metadata": {},
   "source": [
    "### Convert Raw Data to DataFrame\n",
    "* Export the city data into a .csv.\n",
    "* Display the DataFrame"
   ]
  },
  {
   "cell_type": "code",
   "execution_count": 26,
   "metadata": {},
   "outputs": [
    {
     "data": {
      "text/html": [
       "<div>\n",
       "<style scoped>\n",
       "    .dataframe tbody tr th:only-of-type {\n",
       "        vertical-align: middle;\n",
       "    }\n",
       "\n",
       "    .dataframe tbody tr th {\n",
       "        vertical-align: top;\n",
       "    }\n",
       "\n",
       "    .dataframe thead th {\n",
       "        text-align: right;\n",
       "    }\n",
       "</style>\n",
       "<table border=\"1\" class=\"dataframe\">\n",
       "  <thead>\n",
       "    <tr style=\"text-align: right;\">\n",
       "      <th></th>\n",
       "      <th>City</th>\n",
       "      <th>Country</th>\n",
       "      <th>Latitude</th>\n",
       "      <th>Longitude</th>\n",
       "      <th>Humidity</th>\n",
       "      <th>Wind Speed</th>\n",
       "      <th>Cloudiness</th>\n",
       "      <th>Temperature</th>\n",
       "      <th>Date</th>\n",
       "    </tr>\n",
       "  </thead>\n",
       "  <tbody>\n",
       "    <tr>\n",
       "      <th>0</th>\n",
       "      <td>Pinega</td>\n",
       "      <td>RU</td>\n",
       "      <td>64.7001</td>\n",
       "      <td>43.3936</td>\n",
       "      <td>44</td>\n",
       "      <td>8.57</td>\n",
       "      <td>100</td>\n",
       "      <td>71.65</td>\n",
       "      <td>1655303927</td>\n",
       "    </tr>\n",
       "    <tr>\n",
       "      <th>1</th>\n",
       "      <td>Saldanha</td>\n",
       "      <td>ZA</td>\n",
       "      <td>-33.0117</td>\n",
       "      <td>17.9442</td>\n",
       "      <td>54</td>\n",
       "      <td>3.94</td>\n",
       "      <td>3</td>\n",
       "      <td>62.65</td>\n",
       "      <td>1655303927</td>\n",
       "    </tr>\n",
       "    <tr>\n",
       "      <th>2</th>\n",
       "      <td>Jamestown</td>\n",
       "      <td>US</td>\n",
       "      <td>42.0970</td>\n",
       "      <td>-79.2353</td>\n",
       "      <td>83</td>\n",
       "      <td>5.99</td>\n",
       "      <td>36</td>\n",
       "      <td>80.19</td>\n",
       "      <td>1655303665</td>\n",
       "    </tr>\n",
       "    <tr>\n",
       "      <th>3</th>\n",
       "      <td>Garoowe</td>\n",
       "      <td>SO</td>\n",
       "      <td>8.4054</td>\n",
       "      <td>48.4845</td>\n",
       "      <td>26</td>\n",
       "      <td>20.87</td>\n",
       "      <td>14</td>\n",
       "      <td>91.09</td>\n",
       "      <td>1655303929</td>\n",
       "    </tr>\n",
       "    <tr>\n",
       "      <th>4</th>\n",
       "      <td>Juneau</td>\n",
       "      <td>US</td>\n",
       "      <td>58.3019</td>\n",
       "      <td>-134.4197</td>\n",
       "      <td>93</td>\n",
       "      <td>0.00</td>\n",
       "      <td>75</td>\n",
       "      <td>47.21</td>\n",
       "      <td>1655303716</td>\n",
       "    </tr>\n",
       "  </tbody>\n",
       "</table>\n",
       "</div>"
      ],
      "text/plain": [
       "        City Country  Latitude  Longitude  Humidity  Wind Speed  Cloudiness  \\\n",
       "0     Pinega      RU   64.7001    43.3936        44        8.57         100   \n",
       "1   Saldanha      ZA  -33.0117    17.9442        54        3.94           3   \n",
       "2  Jamestown      US   42.0970   -79.2353        83        5.99          36   \n",
       "3    Garoowe      SO    8.4054    48.4845        26       20.87          14   \n",
       "4     Juneau      US   58.3019  -134.4197        93        0.00          75   \n",
       "\n",
       "   Temperature        Date  \n",
       "0        71.65  1655303927  \n",
       "1        62.65  1655303927  \n",
       "2        80.19  1655303665  \n",
       "3        91.09  1655303929  \n",
       "4        47.21  1655303716  "
      ]
     },
     "execution_count": 26,
     "metadata": {},
     "output_type": "execute_result"
    }
   ],
   "source": [
    "weather_df = pd.DataFrame({\"City\": city_name,\n",
    "                           \"Country\": country,\n",
    "                           \"Latitude\": lat,\n",
    "                           \"Longitude\": lng,\n",
    "                           \"Humidity\": humidity,\n",
    "                           \"Wind Speed\": wind_speed,\n",
    "                           \"Cloudiness\": cloudiness,\n",
    "                           \"Temperature\": tempt,\n",
    "                           \"Date\": date\n",
    "\n",
    "})\n",
    "weather_df.head()"
   ]
  },
  {
   "cell_type": "code",
   "execution_count": null,
   "metadata": {},
   "outputs": [],
   "source": []
  },
  {
   "cell_type": "code",
   "execution_count": 27,
   "metadata": {},
   "outputs": [
    {
     "data": {
      "text/html": [
       "<div>\n",
       "<style scoped>\n",
       "    .dataframe tbody tr th:only-of-type {\n",
       "        vertical-align: middle;\n",
       "    }\n",
       "\n",
       "    .dataframe tbody tr th {\n",
       "        vertical-align: top;\n",
       "    }\n",
       "\n",
       "    .dataframe thead th {\n",
       "        text-align: right;\n",
       "    }\n",
       "</style>\n",
       "<table border=\"1\" class=\"dataframe\">\n",
       "  <thead>\n",
       "    <tr style=\"text-align: right;\">\n",
       "      <th></th>\n",
       "      <th>Latitude</th>\n",
       "      <th>Longitude</th>\n",
       "      <th>Humidity</th>\n",
       "      <th>Wind Speed</th>\n",
       "      <th>Cloudiness</th>\n",
       "      <th>Temperature</th>\n",
       "      <th>Date</th>\n",
       "    </tr>\n",
       "  </thead>\n",
       "  <tbody>\n",
       "    <tr>\n",
       "      <th>count</th>\n",
       "      <td>708.000000</td>\n",
       "      <td>708.000000</td>\n",
       "      <td>708.000000</td>\n",
       "      <td>708.000000</td>\n",
       "      <td>708.000000</td>\n",
       "      <td>708.000000</td>\n",
       "      <td>7.080000e+02</td>\n",
       "    </tr>\n",
       "    <tr>\n",
       "      <th>mean</th>\n",
       "      <td>20.646817</td>\n",
       "      <td>17.150062</td>\n",
       "      <td>65.693503</td>\n",
       "      <td>8.110212</td>\n",
       "      <td>53.550847</td>\n",
       "      <td>70.669237</td>\n",
       "      <td>1.655304e+09</td>\n",
       "    </tr>\n",
       "    <tr>\n",
       "      <th>std</th>\n",
       "      <td>32.359335</td>\n",
       "      <td>88.467207</td>\n",
       "      <td>23.290323</td>\n",
       "      <td>5.287842</td>\n",
       "      <td>38.996920</td>\n",
       "      <td>15.369138</td>\n",
       "      <td>1.866623e+02</td>\n",
       "    </tr>\n",
       "    <tr>\n",
       "      <th>min</th>\n",
       "      <td>-54.800000</td>\n",
       "      <td>-179.166700</td>\n",
       "      <td>1.000000</td>\n",
       "      <td>0.000000</td>\n",
       "      <td>0.000000</td>\n",
       "      <td>29.440000</td>\n",
       "      <td>1.655303e+09</td>\n",
       "    </tr>\n",
       "    <tr>\n",
       "      <th>25%</th>\n",
       "      <td>-5.698775</td>\n",
       "      <td>-62.548350</td>\n",
       "      <td>52.000000</td>\n",
       "      <td>4.090000</td>\n",
       "      <td>14.000000</td>\n",
       "      <td>58.715000</td>\n",
       "      <td>1.655304e+09</td>\n",
       "    </tr>\n",
       "    <tr>\n",
       "      <th>50%</th>\n",
       "      <td>26.608750</td>\n",
       "      <td>20.308950</td>\n",
       "      <td>71.000000</td>\n",
       "      <td>6.920000</td>\n",
       "      <td>54.000000</td>\n",
       "      <td>73.440000</td>\n",
       "      <td>1.655304e+09</td>\n",
       "    </tr>\n",
       "    <tr>\n",
       "      <th>75%</th>\n",
       "      <td>47.313400</td>\n",
       "      <td>91.748100</td>\n",
       "      <td>83.250000</td>\n",
       "      <td>11.105000</td>\n",
       "      <td>97.000000</td>\n",
       "      <td>81.510000</td>\n",
       "      <td>1.655304e+09</td>\n",
       "    </tr>\n",
       "    <tr>\n",
       "      <th>max</th>\n",
       "      <td>78.218600</td>\n",
       "      <td>178.416700</td>\n",
       "      <td>100.000000</td>\n",
       "      <td>30.800000</td>\n",
       "      <td>100.000000</td>\n",
       "      <td>114.750000</td>\n",
       "      <td>1.655305e+09</td>\n",
       "    </tr>\n",
       "  </tbody>\n",
       "</table>\n",
       "</div>"
      ],
      "text/plain": [
       "         Latitude   Longitude    Humidity  Wind Speed  Cloudiness  \\\n",
       "count  708.000000  708.000000  708.000000  708.000000  708.000000   \n",
       "mean    20.646817   17.150062   65.693503    8.110212   53.550847   \n",
       "std     32.359335   88.467207   23.290323    5.287842   38.996920   \n",
       "min    -54.800000 -179.166700    1.000000    0.000000    0.000000   \n",
       "25%     -5.698775  -62.548350   52.000000    4.090000   14.000000   \n",
       "50%     26.608750   20.308950   71.000000    6.920000   54.000000   \n",
       "75%     47.313400   91.748100   83.250000   11.105000   97.000000   \n",
       "max     78.218600  178.416700  100.000000   30.800000  100.000000   \n",
       "\n",
       "       Temperature          Date  \n",
       "count   708.000000  7.080000e+02  \n",
       "mean     70.669237  1.655304e+09  \n",
       "std      15.369138  1.866623e+02  \n",
       "min      29.440000  1.655303e+09  \n",
       "25%      58.715000  1.655304e+09  \n",
       "50%      73.440000  1.655304e+09  \n",
       "75%      81.510000  1.655304e+09  \n",
       "max     114.750000  1.655305e+09  "
      ]
     },
     "execution_count": 27,
     "metadata": {},
     "output_type": "execute_result"
    }
   ],
   "source": [
    "weather_df.describe()"
   ]
  },
  {
   "cell_type": "markdown",
   "metadata": {},
   "source": [
    "## Inspect the data and remove the cities where the humidity > 100%.\n",
    "----\n",
    "Skip this step if there are no cities that have humidity > 100%. "
   ]
  },
  {
   "cell_type": "code",
   "execution_count": 28,
   "metadata": {},
   "outputs": [
    {
     "data": {
      "text/plain": [
       "City           0\n",
       "Country        0\n",
       "Latitude       0\n",
       "Longitude      0\n",
       "Humidity       0\n",
       "Wind Speed     0\n",
       "Cloudiness     0\n",
       "Temperature    0\n",
       "Date           0\n",
       "dtype: int64"
      ]
     },
     "execution_count": 28,
     "metadata": {},
     "output_type": "execute_result"
    }
   ],
   "source": [
    "weather_df[weather_df['Humidity'] > 100].count()"
   ]
  },
  {
   "cell_type": "code",
   "execution_count": 29,
   "metadata": {},
   "outputs": [],
   "source": [
    "#  Get the indices of cities that have humidity over 100%.\n"
   ]
  },
  {
   "cell_type": "code",
   "execution_count": 30,
   "metadata": {},
   "outputs": [],
   "source": [
    "# Make a new DataFrame equal to the city data to drop all humidity outliers by index.\n",
    "# Passing \"inplace=False\" will make a copy of the city_data DataFrame, which we call \"clean_city_data\".\n"
   ]
  },
  {
   "cell_type": "code",
   "execution_count": 31,
   "metadata": {},
   "outputs": [],
   "source": [
    "\n",
    "# Export to .csv file\n",
    "weather_df.to_csv(\"../output_data/cities.csv\", index=False, header=True)"
   ]
  },
  {
   "cell_type": "markdown",
   "metadata": {},
   "source": [
    "## Plotting the Data\n",
    "* Use proper labeling of the plots using plot titles (including date of analysis) and axes labels.\n",
    "* Save the plotted figures as .pngs."
   ]
  },
  {
   "cell_type": "markdown",
   "metadata": {},
   "source": [
    "## Latitude vs. Temperature Plot"
   ]
  },
  {
   "cell_type": "code",
   "execution_count": 32,
   "metadata": {
    "scrolled": true
   },
   "outputs": [
    {
     "data": {
      "image/png": "[encoded data removed]",
      "text/plain": [
       "<Figure size 432x288 with 1 Axes>"
      ]
     },
     "metadata": {
      "needs_background": "light"
     },
     "output_type": "display_data"
    }
   ],
   "source": [
    "x = weather_df['Latitude']\n",
    "y = weather_df['Temperature']\n",
    "date =datetime.datetime.fromtimestamp(int(weather_df['Date'][0])).strftime('%d/%m/%Y')\n",
    "plt.scatter(x, y)\n",
    "plt.title(f'City Latitude vs Max Temperature ({date})')\n",
    "plt.xlabel('Latitude')\n",
    "plt.ylabel('Max Temperature (F)')\n",
    "plt.grid()\n",
    "plt.savefig(\"../Images/lat_temp.png\")"
   ]
  },
  {
   "cell_type": "markdown",
   "metadata": {},
   "source": [
    "From the plot that shows the relationship between city latidue and temerature, as we approaching the equator (latitude = 0) the temperature get hotter"
   ]
  },
  {
   "cell_type": "markdown",
   "metadata": {},
   "source": []
  },
  {
   "cell_type": "markdown",
   "metadata": {},
   "source": [
    "## Latitude vs. Humidity Plot"
   ]
  },
  {
   "cell_type": "code",
   "execution_count": 33,
   "metadata": {},
   "outputs": [
    {
     "data": {
      "image/png": "[encoded data removed]",
      "text/plain": [
       "<Figure size 432x288 with 1 Axes>"
      ]
     },
     "metadata": {
      "needs_background": "light"
     },
     "output_type": "display_data"
    }
   ],
   "source": [
    "plt.scatter(weather_df['Latitude'], weather_df['Humidity'])\n",
    "plt.title(f'City Latitude vs Humidity ({date}) ')\n",
    "plt.xlabel('Latitude')\n",
    "plt.ylabel('Humidity (%)')\n",
    "plt.grid()\n",
    "plt.savefig(\"../Images/lat_humidity.png\")"
   ]
  },
  {
   "cell_type": "markdown",
   "metadata": {},
   "source": [
    "There is no correlation between city latitude and humidity"
   ]
  },
  {
   "cell_type": "markdown",
   "metadata": {},
   "source": [
    "## Latitude vs. Cloudiness Plot"
   ]
  },
  {
   "cell_type": "code",
   "execution_count": 34,
   "metadata": {},
   "outputs": [
    {
     "data": {
      "image/png": "[encoded data removed]",
      "text/plain": [
       "<Figure size 432x288 with 1 Axes>"
      ]
     },
     "metadata": {
      "needs_background": "light"
     },
     "output_type": "display_data"
    }
   ],
   "source": [
    "plt.scatter(weather_df['Latitude'], weather_df['Cloudiness'])\n",
    "plt.title(f'City Latitude vs Cloudiness ({date}) ')\n",
    "plt.xlabel('Latitude')\n",
    "plt.ylabel('cloudiness(%)')\n",
    "plt.grid()\n",
    "plt.savefig(\"../Images/lat_cloudiness.png\")"
   ]
  },
  {
   "cell_type": "markdown",
   "metadata": {},
   "source": [
    "There is no correlation between city latitude and cloudiness level"
   ]
  },
  {
   "cell_type": "markdown",
   "metadata": {},
   "source": [
    "## Latitude vs. Wind Speed Plot"
   ]
  },
  {
   "cell_type": "code",
   "execution_count": 35,
   "metadata": {},
   "outputs": [
    {
     "data": {
      "image/png": "[encoded data removed]",
      "text/plain": [
       "<Figure size 432x288 with 1 Axes>"
      ]
     },
     "metadata": {
      "needs_background": "light"
     },
     "output_type": "display_data"
    }
   ],
   "source": [
    "plt.scatter(weather_df['Latitude'], weather_df['Wind Speed'])\n",
    "plt.title(f\"City Latitude vs Wind Speed ({date}) \")\n",
    "plt.xlabel('Latitude')\n",
    "plt.ylabel('Wind Speed(mph)')\n",
    "plt.grid()\n",
    "plt.savefig(\"../Images/lat_windspeed.png\")"
   ]
  },
  {
   "cell_type": "markdown",
   "metadata": {},
   "source": [
    "Generally, wind speed become as greater as futher away from the equator"
   ]
  },
  {
   "cell_type": "markdown",
   "metadata": {},
   "source": [
    "## Linear Regression"
   ]
  },
  {
   "cell_type": "code",
   "execution_count": 36,
   "metadata": {},
   "outputs": [],
   "source": [
    "#create northern and southern hemisphere df by creating a border for them\n",
    "border = weather_df['Latitude'] > 0\n",
    "northern_hem = weather_df[border]\n",
    "southern_hem = weather_df[~border]"
   ]
  },
  {
   "cell_type": "markdown",
   "metadata": {},
   "source": [
    "####  Northern Hemisphere - Max Temp vs. Latitude Linear Regression"
   ]
  },
  {
   "cell_type": "code",
   "execution_count": 37,
   "metadata": {},
   "outputs": [
    {
     "name": "stdout",
     "output_type": "stream",
     "text": [
      "The r-value is: -0.6875628703070247 \n"
     ]
    },
    {
     "data": {
      "text/plain": [
       "Text(0, 0.5, 'Max Temp')"
      ]
     },
     "execution_count": 37,
     "metadata": {},
     "output_type": "execute_result"
    },
    {
     "data": {
      "image/png": "[encoded data removed]",
      "text/plain": [
       "<Figure size 432x288 with 1 Axes>"
      ]
     },
     "metadata": {
      "needs_background": "light"
     },
     "output_type": "display_data"
    }
   ],
   "source": [
    "x = northern_hem['Latitude']\n",
    "y = northern_hem['Temperature']\n",
    "\n",
    "(slope, intercept, rvalue, pvalue, stderr) = st.linregress(x, y)\n",
    "regression = x * slope + intercept\n",
    "line_eq = \"y = \" + str(round(slope,2)) + \"x + \" + str(round(intercept,2))\n",
    "coor = st.pearsonr(x,y)\n",
    "print(f\"The r-value is: {coor[0]} \")\n",
    "\n",
    "plt.scatter(x, y)\n",
    "plt.title('Temperatures at Latitude Positions (Northern Hemisphere)')\n",
    "plt.plot(x, regression, \"r-\")\n",
    "plt.annotate(line_eq,(20,37),fontsize=15,color=\"red\")\n",
    "plt.xlabel('Latitude')\n",
    "plt.ylabel('Max Temp')"
   ]
  },
  {
   "cell_type": "markdown",
   "metadata": {},
   "source": [
    "####  Southern Hemisphere - Max Temp vs. Latitude Linear Regression"
   ]
  },
  {
   "cell_type": "code",
   "execution_count": 38,
   "metadata": {},
   "outputs": [
    {
     "name": "stdout",
     "output_type": "stream",
     "text": [
      "The r-value is: 0.85958853092346 \n"
     ]
    },
    {
     "data": {
      "text/plain": [
       "Text(0, 0.5, 'Max Temp')"
      ]
     },
     "execution_count": 38,
     "metadata": {},
     "output_type": "execute_result"
    },
    {
     "data": {
      "image/png": "[encoded data removed]",
      "text/plain": [
       "<Figure size 432x288 with 1 Axes>"
      ]
     },
     "metadata": {
      "needs_background": "light"
     },
     "output_type": "display_data"
    }
   ],
   "source": [
    "x = southern_hem['Latitude']\n",
    "y = southern_hem['Temperature']\n",
    "\n",
    "(slope, intercept, rvalue, pvalue, stderr) = st.linregress(x, y)\n",
    "regression = x * slope + intercept\n",
    "line_eq = \"y = \" + str(round(slope,2)) + \"x + \" + str(round(intercept,2))\n",
    "coor = st.pearsonr(x,y)\n",
    "print(f\"The r-value is: {coor[0]} \")\n",
    "\n",
    "plt.scatter(x, y)\n",
    "plt.title('Temperatures at Latitude Positions (Southern Hemisphere)')\n",
    "plt.plot(x, regression, \"r-\")\n",
    "plt.annotate(line_eq,(-35,37),fontsize=15,color=\"red\")\n",
    "plt.xlabel('Latitude')\n",
    "plt.ylabel('Max Temp')"
   ]
  },
  {
   "cell_type": "markdown",
   "metadata": {},
   "source": [
    "From the analysis, both Northern with r-value equal -0.67 shows a relatively strong negative relationship between the city latitude and temerature. On the other hand Southern hemesphere (r-value = 0.81) indicate a strong potive reationship between latitude and temperature. Both plots shows that the closer the latitude to the equator, the hotter it get. "
   ]
  },
  {
   "cell_type": "markdown",
   "metadata": {},
   "source": [
    "####  Northern Hemisphere - Humidity (%) vs. Latitude Linear Regression"
   ]
  },
  {
   "cell_type": "code",
   "execution_count": 39,
   "metadata": {},
   "outputs": [
    {
     "name": "stdout",
     "output_type": "stream",
     "text": [
      "The r-value is: 0.04322461367137663 \n"
     ]
    },
    {
     "data": {
      "text/plain": [
       "Text(0, 0.5, 'Humidity (%)')"
      ]
     },
     "execution_count": 39,
     "metadata": {},
     "output_type": "execute_result"
    },
    {
     "data": {
      "image/png": "[encoded data removed]",
      "text/plain": [
       "<Figure size 432x288 with 1 Axes>"
      ]
     },
     "metadata": {
      "needs_background": "light"
     },
     "output_type": "display_data"
    }
   ],
   "source": [
    "x = northern_hem['Latitude']\n",
    "y = northern_hem['Humidity']\n",
    "\n",
    "(slope, intercept, rvalue, pvalue, stderr) = st.linregress(x, y)\n",
    "regression = x * slope + intercept\n",
    "line_eq = \"y = \" + str(round(slope,2)) + \"x + \" + str(round(intercept,2))\n",
    "coor = st.pearsonr(x,y)\n",
    "print(f\"The r-value is: {coor[0]} \")\n",
    "\n",
    "plt.scatter(x, y)\n",
    "plt.title('Humidity at Latitude Positions (Northern Hemisphere)')\n",
    "plt.plot(x, regression, \"r-\")\n",
    "plt.annotate(line_eq,(20,37),fontsize=15,color=\"red\")\n",
    "plt.xlabel('Latitude')\n",
    "plt.ylabel('Humidity (%)')"
   ]
  },
  {
   "cell_type": "markdown",
   "metadata": {},
   "source": [
    "####  Southern Hemisphere - Humidity (%) vs. Latitude Linear Regression"
   ]
  },
  {
   "cell_type": "code",
   "execution_count": 40,
   "metadata": {},
   "outputs": [
    {
     "name": "stdout",
     "output_type": "stream",
     "text": [
      "The r-value is: -0.11554394162553772 \n"
     ]
    },
    {
     "data": {
      "text/plain": [
       "Text(0, 0.5, 'Humidity (%)')"
      ]
     },
     "execution_count": 40,
     "metadata": {},
     "output_type": "execute_result"
    },
    {
     "data": {
      "image/png": "[encoded data removed]",
      "text/plain": [
       "<Figure size 432x288 with 1 Axes>"
      ]
     },
     "metadata": {
      "needs_background": "light"
     },
     "output_type": "display_data"
    }
   ],
   "source": [
    "x = southern_hem['Latitude']\n",
    "y = southern_hem['Humidity']\n",
    "\n",
    "(slope, intercept, rvalue, pvalue, stderr) = st.linregress(x, y)\n",
    "regression = x * slope + intercept\n",
    "line_eq = \"y = \" + str(round(slope,2)) + \"x + \" + str(round(intercept,2))\n",
    "coor = st.pearsonr(x,y)\n",
    "print(f\"The r-value is: {coor[0]} \")\n",
    "\n",
    "plt.scatter(x, y)\n",
    "plt.title('Humidity at Latitude Positions (Southern Hemisphere)')\n",
    "plt.plot(x, regression, \"r-\")\n",
    "plt.annotate(line_eq,(-35,80),fontsize=15,color=\"red\")\n",
    "plt.xlabel('Latitude')\n",
    "plt.ylabel('Humidity (%)')"
   ]
  },
  {
   "cell_type": "markdown",
   "metadata": {},
   "source": [
    "There is no correlation between latitude and humidity for both hemesphere"
   ]
  },
  {
   "cell_type": "markdown",
   "metadata": {},
   "source": [
    "####  Northern Hemisphere - Cloudiness (%) vs. Latitude Linear Regression"
   ]
  },
  {
   "cell_type": "code",
   "execution_count": 41,
   "metadata": {},
   "outputs": [
    {
     "name": "stdout",
     "output_type": "stream",
     "text": [
      "The r-value is: 0.02989616224578737 \n"
     ]
    },
    {
     "data": {
      "text/plain": [
       "Text(0, 0.5, 'Cloudiness (%)')"
      ]
     },
     "execution_count": 41,
     "metadata": {},
     "output_type": "execute_result"
    },
    {
     "data": {
      "image/png": "[encoded data removed]",
      "text/plain": [
       "<Figure size 432x288 with 1 Axes>"
      ]
     },
     "metadata": {
      "needs_background": "light"
     },
     "output_type": "display_data"
    }
   ],
   "source": [
    "x = northern_hem['Latitude']\n",
    "y = northern_hem['Cloudiness']\n",
    "\n",
    "(slope, intercept, rvalue, pvalue, stderr) = st.linregress(x, y)\n",
    "regression = x * slope + intercept\n",
    "line_eq = \"y = \" + str(round(slope,2)) + \"x + \" + str(round(intercept,2))\n",
    "coor = st.pearsonr(x,y)\n",
    "print(f\"The r-value is: {coor[0]} \")\n",
    "\n",
    "plt.scatter(x, y)\n",
    "plt.title('Cloudiness at Latitude Positions (Northern Hemisphere)')\n",
    "plt.plot(x, regression, \"r-\")\n",
    "plt.annotate(line_eq,(20,37),fontsize=15,color=\"red\")\n",
    "plt.xlabel('Latitude')\n",
    "plt.ylabel('Cloudiness (%)')"
   ]
  },
  {
   "cell_type": "markdown",
   "metadata": {},
   "source": [
    "####  Southern Hemisphere - Cloudiness (%) vs. Latitude Linear Regression"
   ]
  },
  {
   "cell_type": "code",
   "execution_count": 42,
   "metadata": {},
   "outputs": [
    {
     "name": "stdout",
     "output_type": "stream",
     "text": [
      "The r-value is: 0.13136227982863838 \n"
     ]
    },
    {
     "data": {
      "text/plain": [
       "Text(0, 0.5, 'Cloudiness (%)')"
      ]
     },
     "execution_count": 42,
     "metadata": {},
     "output_type": "execute_result"
    },
    {
     "data": {
      "image/png": "[encoded data removed]",
      "text/plain": [
       "<Figure size 432x288 with 1 Axes>"
      ]
     },
     "metadata": {
      "needs_background": "light"
     },
     "output_type": "display_data"
    }
   ],
   "source": [
    "x = southern_hem['Latitude']\n",
    "y = southern_hem['Cloudiness']\n",
    "\n",
    "(slope, intercept, rvalue, pvalue, stderr) = st.linregress(x, y)\n",
    "regression = x * slope + intercept\n",
    "line_eq = \"y = \" + str(round(slope,2)) + \"x + \" + str(round(intercept,2))\n",
    "coor = st.pearsonr(x,y)\n",
    "print(f\"The r-value is: {coor[0]} \")\n",
    "\n",
    "plt.scatter(x, y)\n",
    "plt.title('Cloudiness at Latitude Positions (Southern Hemisphere)')\n",
    "plt.plot(x, regression, \"r-\")\n",
    "plt.annotate(line_eq,(-35,80),fontsize=15,color=\"red\")\n",
    "plt.xlabel('Latitude')\n",
    "plt.ylabel('Cloudiness (%)')"
   ]
  },
  {
   "cell_type": "markdown",
   "metadata": {},
   "source": [
    "From the plots, city latitude and the level of cloudiness deos not seem to be correlated. However, the Southern hemsphere shows a weak potive realtionship between latidue the level of cloudiness. There is more cloudy as we move toward the equator"
   ]
  },
  {
   "cell_type": "markdown",
   "metadata": {},
   "source": [
    "####  Northern Hemisphere - Wind Speed (mph) vs. Latitude Linear Regression"
   ]
  },
  {
   "cell_type": "code",
   "execution_count": 43,
   "metadata": {},
   "outputs": [
    {
     "name": "stdout",
     "output_type": "stream",
     "text": [
      "The r-value is: -0.09017031615955493 \n"
     ]
    },
    {
     "data": {
      "text/plain": [
       "Text(0, 0.5, 'Wind Speed (%)')"
      ]
     },
     "execution_count": 43,
     "metadata": {},
     "output_type": "execute_result"
    },
    {
     "data": {
      "image/png": "[encoded data removed]",
      "text/plain": [
       "<Figure size 432x288 with 1 Axes>"
      ]
     },
     "metadata": {
      "needs_background": "light"
     },
     "output_type": "display_data"
    }
   ],
   "source": [
    "x = northern_hem['Latitude']\n",
    "y = northern_hem['Wind Speed']\n",
    "\n",
    "(slope, intercept, rvalue, pvalue, stderr) = st.linregress(x, y)\n",
    "regression = x * slope + intercept\n",
    "line_eq = \"y = \" + str(round(slope,2)) + \"x + \" + str(round(intercept,2))\n",
    "coor = st.pearsonr(x,y)\n",
    "print(f\"The r-value is: {coor[0]} \")\n",
    "\n",
    "plt.scatter(x, y)\n",
    "plt.title('Wind Speed at Latitude Positions (Northern Hemisphere)')\n",
    "plt.plot(x, regression, \"r-\")\n",
    "plt.annotate(line_eq,(20,20),fontsize=15,color=\"red\")\n",
    "plt.xlabel('Latitude')\n",
    "plt.ylabel('Wind Speed (%)')"
   ]
  },
  {
   "cell_type": "markdown",
   "metadata": {},
   "source": [
    "####  Southern Hemisphere - Wind Speed (mph) vs. Latitude Linear Regression"
   ]
  },
  {
   "cell_type": "code",
   "execution_count": 44,
   "metadata": {},
   "outputs": [
    {
     "name": "stdout",
     "output_type": "stream",
     "text": [
      "The r-value is: -0.13932598825978743 \n"
     ]
    },
    {
     "data": {
      "text/plain": [
       "Text(0, 0.5, 'Wind Speed (%)')"
      ]
     },
     "execution_count": 44,
     "metadata": {},
     "output_type": "execute_result"
    },
    {
     "data": {
      "image/png": "[encoded data removed]",
      "text/plain": [
       "<Figure size 432x288 with 1 Axes>"
      ]
     },
     "metadata": {
      "needs_background": "light"
     },
     "output_type": "display_data"
    }
   ],
   "source": [
    "x = southern_hem['Latitude']\n",
    "y = southern_hem['Wind Speed']\n",
    "\n",
    "(slope, intercept, rvalue, pvalue, stderr) = st.linregress(x, y)\n",
    "regression = x * slope + intercept\n",
    "line_eq = \"y = \" + str(round(slope,2)) + \"x + \" + str(round(intercept,2))\n",
    "coor = st.pearsonr(x,y)\n",
    "print(f\"The r-value is: {coor[0]} \")\n",
    "\n",
    "plt.scatter(x, y)\n",
    "plt.title('Wind Speed at Latitude Positions (Southern Hemisphere)')\n",
    "plt.plot(x, regression, \"r-\")\n",
    "plt.annotate(line_eq,(-30,20),fontsize=15,color=\"red\")\n",
    "plt.xlabel('Latitude')\n",
    "plt.ylabel('Wind Speed (%)')"
   ]
  },
  {
   "cell_type": "markdown",
   "metadata": {},
   "source": [
    "There is no correlation between the latitude and wind speed"
   ]
  },
  {
   "cell_type": "markdown",
   "metadata": {},
   "source": [
    "In conclusion, The weather become warmer as we 're approaching the equator. The Southern Hermesphere has a strong positive linear correlation between latitude and temerature\n",
    "Also, there is no correlation between the city latitude against humidity, cloudiness and wind speed"
   ]
  },
  {
   "cell_type": "code",
   "execution_count": null,
   "metadata": {},
   "outputs": [],
   "source": [
    "\n"
   ]
  }
 ],
 "metadata": {
  "anaconda-cloud": {},
  "kernel_info": {
   "name": "python3"
  },
  "kernelspec": {
   "display_name": "Python 3.9.7 ('base')",
   "language": "python",
   "name": "python3"
  },
  "language_info": {
   "codemirror_mode": {
    "name": "ipython",
    "version": 3
   },
   "file_extension": ".py",
   "mimetype": "text/x-python",
   "name": "python",
   "nbconvert_exporter": "python",
   "pygments_lexer": "ipython3",
   "version": "3.9.7"
  },
  "latex_envs": {
   "LaTeX_envs_menu_present": true,
   "autoclose": false,
   "autocomplete": true,
   "bibliofile": "biblio.bib",
   "cite_by": "apalike",
   "current_citInitial": 1,
   "eqLabelWithNumbers": true,
   "eqNumInitial": 1,
   "hotkeys": {
    "equation": "Ctrl-E",
    "itemize": "Ctrl-I"
   },
   "labels_anchors": false,
   "latex_user_defs": false,
   "report_style_numbering": false,
   "user_envs_cfg": false
  },
  "nteract": {
   "version": "0.12.3"
  },
  "vscode": {
   "interpreter": {
    "hash": "d7288e82646d3164eca24130947288f8779d11454649f2c02a5dfc42af7f324c"
   }
  }
 },
 "nbformat": 4,
 "nbformat_minor": 2
}
